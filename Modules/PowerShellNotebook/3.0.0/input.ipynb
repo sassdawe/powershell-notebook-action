{
    "metadata": {
        "kernelspec": {
            "name": ".net-powershell",
            "display_name": ".NET (PowerShell)"
        },
        "language_info": {
            "name": "PowerShell",
            "version": "7.0",
            "mimetype": "text/x-powershell",
            "file_extension": ".ps1",
            "pygments_lexer": "powershell"
        }
    },
    "nbformat_minor": 2,
    "nbformat": 4,
    "cells": [
        {
            "cell_type": "code",
            "source": [
                "$alpha = 1.2\r\n",
                "$ratio = 3.7\r\n",
                "\r\n",
                "$a = 5"
            ],
            "metadata": {
                "azdata_cell_guid": "fdf55bdd-2d89-41cc-a4fc-2fafab9e98eb",
                "tags": [
                    "parameters"
                ]
            },
            "outputs": [],
            "execution_count": null
        },
        {
            "cell_type": "code",
            "source": [
                "\"alpha = {0}, ratio = {1}, and alpha * ratio = {2}\" -f $alpha, $ratio, ($alpha * $ratio)"
            ],
            "metadata": {
                "azdata_cell_guid": "b20b9960-d852-4330-87e1-87f000f0b53e"
            },
            "outputs": [],
            "execution_count": null
        },
        {
            "cell_type": "code",
            "source": [
                "$twice = $a * 2"
            ],
            "metadata": {
                "azdata_cell_guid": "03dcc6b2-8e91-4531-a896-8fe88e84f353"
            },
            "outputs": [],
            "execution_count": null
        },
        {
            "cell_type": "code",
            "source": [
                "\"a = \" + $a + \" and twice = \" + $twice"
            ],
            "metadata": {
                "azdata_cell_guid": "ee972003-ac98-40f1-bb47-212d902d0000"
            },
            "outputs": [],
            "execution_count": null
        }
    ]
}