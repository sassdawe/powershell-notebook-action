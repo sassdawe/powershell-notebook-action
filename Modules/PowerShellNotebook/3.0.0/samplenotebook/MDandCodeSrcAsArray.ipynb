{
    "metadata": {
        "kernelspec": {
            "name": "powershell",
            "display_name": "PowerShell"
        },
        "language_info": {
            "name": "powershell",
            "codemirror_mode": "shell",
            "mimetype": "text/x-sh",
            "file_extension": ".ps1"
        }
    },
    "nbformat_minor": 2,
    "nbformat": 4,
    "cells": [
        {
            "cell_type": "markdown",
            "source": [
                "# Chapter 1"
            ],
            "metadata": {
                "azdata_cell_guid": "0055dec0-e844-4de2-bdc2-7424bce57554"
            }
        },
        {
            "cell_type": "markdown",
            "source": [
                "This is multiple lines of markdown\r\n",
                "- Item Y\r\n",
                "- Item Y\r\n",
                "- Item Y\r\n",
                "\r\n",
                "and a numbered list\r\n",
                "1. Item\r\n",
                "1. Item\r\n",
                "1. Item"
            ],
            "metadata": {
                "azdata_cell_guid": "7c42eca7-d22e-4bee-8cc1-43d77a50b51d"
            }
        },
        {
            "cell_type": "code",
            "source": [
                "1..10 | % {\n",
                "    \"Hello World\"\n",
                "}"
            ],
            "metadata": {
                "azdata_cell_guid": "b7f2d298-ea50-4fbe-9fe3-0f751c6038c6"
            },
            "outputs": [
                {
                    "output_type": "stream",
                    "name": "stdout",
                    "text": "Hello World\n"
                }
            ],
            "execution_count": 1
        }
    ]
}