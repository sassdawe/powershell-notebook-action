﻿{
    "metadata": {
        "kernelspec": {
            "name": "powershell",
            "display_name": "PowerShell"
        },
        "language_info": {
            "name": "powershell",
            "codemirror_mode": "shell",
            "mimetype": "text/x-sh",
            "file_extension": ".ps1"
        }
    },
    "nbformat_minor": 2,
    "nbformat": 4,
    "cells": [
        {"cell_type":"markdown","metadata":{},"source":["# Chapter 1"]},{"cell_type":"markdown","metadata":{},"source":["## PowerShell Notebooks - Executable Documents\r\n### Loops\r\n\r\n"]},{
  "cell_type": "code",
  "execution_count": 1,
  "metadata": {
    "azdata_cell_guid": "9b02f1b5-a7f4-46f5-ad8a-8ec54306154f"
  },
  "source": [
    "1..5 | % {\r\n    $_ * 2\r\n}\r\n"
  ],
  "outputs": [
    {
      "output_type": "stream",
      "text": "2\n4\n6\n8\n10\n",
      "name": "stdout"
    }
  ]
}
    ]
}
