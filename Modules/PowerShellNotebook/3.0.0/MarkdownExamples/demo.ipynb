{
    "metadata": {
        "kernelspec": {
            "name": "powershell",
            "display_name": "PowerShell"
        },
        "language_info": {
            "name": "powershell",
            "codemirror_mode": "shell",
            "mimetype": "text/x-sh",
            "file_extension": ".ps1"
        }
    },
    "nbformat_minor": 2,
    "nbformat": 4,
    "cells": [
        {"cell_type":"markdown","metadata":{},"source":["# Chapter 1"]},{"cell_type":"markdown","metadata":{},"source":[""]},{
  "cell_type": "code",
  "execution_count": 1,
  "metadata": {
    "azdata_cell_guid": "02f9d1df-fe44-47e7-847e-e68b99ce282f"
  },
  "source": [
    "\"Hello World\"\r\n"
  ],
  "outputs": [
    {
      "output_type": "stream",
      "name": "stdout",
      "text": "Hello World\n"
    }
  ]
}
    ]
}
